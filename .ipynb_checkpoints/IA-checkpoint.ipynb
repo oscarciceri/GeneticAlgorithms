{
 "cells": [
  {
   "cell_type": "markdown",
   "metadata": {},
   "source": [
    "#  8-Queens Problem"
   ]
  },
  {
   "cell_type": "code",
   "execution_count": 1,
   "metadata": {},
   "outputs": [],
   "source": [
    "from IPython.display import Image"
   ]
  },
  {
   "cell_type": "markdown",
   "metadata": {},
   "source": [
    "In this project was employed a Genetic Algorithm (GA) to solve the 8-Queens ploblem. \n",
    "\n",
    "The current report will be structured as follow.\n",
    " \n",
    "* Genetic Algorithm.\n",
    "* Simulation Results.\n",
    "* Code.\n",
    "\n",
    "Note here that the programming language for this project is Python version 3.8."
   ]
  },
  {
   "cell_type": "markdown",
   "metadata": {},
   "source": [
    "## 1. Genetic Algorithm\n",
    "\n",
    "The Genetic Algorithm involves:\n",
    "* Problem Codification\n",
    "* Generate the Initial Population\n",
    "* Find Fitness \n",
    "* Find Altitude  \n",
    "* Find Probability Density Function (PDF)\n",
    "* Find Cumulative Distribution Function (CDF)\n",
    "* Selection of the Best Chromosome\n",
    "* Reproduction \n",
    "* Mutation\n",
    "* Generate New Population\n",
    "* Run GA and the Stopping Criteria "
   ]
  },
  {
   "cell_type": "markdown",
   "metadata": {},
   "source": [
    "###  Problem Codification\n",
    "\n",
    "For the 8-queens puzzle is obtained a board with 8-Queens positioned so as not to attack each other. \n",
    "\n",
    "The problem is modeled as follows: \n",
    "\n",
    "**Coding:** The chromosome is represented in a vector of 8 positions, each representing the position of a queen in a column. \n",
    "\n",
    "In GA, the chromosomes are possible solutions."
   ]
  },
  {
   "cell_type": "code",
   "execution_count": 2,
   "metadata": {},
   "outputs": [],
   "source": [
    "import queensGenetic\n",
    "import random\n",
    "import numpy as np\n",
    "import threading\n",
    "import random\n",
    "import math\n",
    "import os\n",
    "import time\n",
    "\n",
    "\n",
    "if __name__ == '__main__':\n",
    "\n",
    "    numberGenerations = 100000\n",
    "    repeatChromosome = 100\n",
    "    sizePopulation = 4\n",
    "    nGens = 8\n",
    "    maxAllele = 7\n",
    "    minAllele = 0\n",
    "    chromosome = []\n",
    "    population = []\n",
    "    maxFitness = 28\n",
    " \n"
   ]
  },
  {
   "cell_type": "markdown",
   "metadata": {},
   "source": [
    "### Generate the Initial Population\n",
    "\n",
    "The size of the population is formed by four chromosome selected randomly. \n",
    "\n",
    "\n"
   ]
  },
  {
   "cell_type": "code",
   "execution_count": 3,
   "metadata": {},
   "outputs": [
    {
     "name": "stdout",
     "output_type": "stream",
     "text": [
      "[[3, 3, 0, 1, 5, 6, 2, 0], [6, 4, 3, 3, 0, 4, 2, 0], [2, 4, 0, 0, 4, 1, 0, 2], [1, 5, 4, 3, 2, 6, 2, 3]]\n"
     ]
    }
   ],
   "source": [
    "population.clear()                                                                          \n",
    "for j in range(sizePopulation):\n",
    "    for i in range(nGens):\n",
    "        chromosome.append(random.randrange(minAllele, maxAllele, 1))\n",
    "    population.append(chromosome.copy())\n",
    "    chromosome.clear()\n",
    "\n",
    "print(population)"
   ]
  },
  {
   "cell_type": "markdown",
   "metadata": {},
   "source": [
    "### Find the Fitness\n",
    "\n",
    "Returns the number of queens that are not attacking each other."
   ]
  },
  {
   "cell_type": "code",
   "execution_count": 4,
   "metadata": {},
   "outputs": [
    {
     "name": "stdout",
     "output_type": "stream",
     "text": [
      "Fitness : [23, 22, 21, 18]\n",
      "Sort Fitness:  [18, 21, 22, 23]\n"
     ]
    }
   ],
   "source": [
    "fitness = []\n",
    "def fitnessFunction(chromosome, maxFitness):\n",
    "    fitness = 0\n",
    "    for i in range(len(chromosome)-1):\n",
    "        for j in range(i+1,len(chromosome)):\n",
    "            if ((chromosome[i]==chromosome[j]) or (chromosome[i]==chromosome[j]+j-i) or (chromosome[j]-j+i==chromosome[i])):\n",
    "                fitness+=1\n",
    "\n",
    "    fitness =  maxFitness - fitness\n",
    "    return fitness\n",
    "\n",
    "def sortFunction(fitness, population):\n",
    "    idSortFitness = np.argsort(fitness)\n",
    "    aux = population.copy()\n",
    "    fitness.sort()\n",
    "    j=0\n",
    "    for i in idSortFitness:\n",
    "        population[j]=aux[i]\n",
    "        j=j+1\n",
    "\n",
    "def findFitness(maxFitness):\n",
    "    for chromosome in population:\n",
    "        value = fitnessFunction(chromosome.copy(), maxFitness)\n",
    "        fitness.append(value)\n",
    "    print(\"Fitness :\",fitness)\n",
    "    return fitness\n",
    "\n",
    "def sortFitnessPopulation():\n",
    "    sortFunction(fitness, population)\n",
    "        \n",
    "fitness = findFitness(maxFitness)\n",
    "sortFitnessPopulation()\n",
    "\n",
    "print(\"Sort Fitness: \",fitness)\n"
   ]
  },
  {
   "cell_type": "markdown",
   "metadata": {},
   "source": [
    "### Find the Aptitude\n",
    "\n",
    "Returns the aptitude vector calculate as\n",
    "\n",
    "\\begin{equation}\n",
    "A_T(i) = \\sum_{k=1}^n f(i)\n",
    "\\end{equation}\n"
   ]
  },
  {
   "cell_type": "code",
   "execution_count": 5,
   "metadata": {},
   "outputs": [
    {
     "name": "stdout",
     "output_type": "stream",
     "text": [
      "Aptitude :  [18, 39, 61, 84]\n"
     ]
    }
   ],
   "source": [
    "aptitude = []\n",
    "def aptitudeFunction(vector):\n",
    "    aux = 0\n",
    "    for i in range(len(vector)):\n",
    "        vector[i] = vector[i] + aux \n",
    "        aux = vector[i]\n",
    "    return vector\n",
    "\n",
    "def findAptitude():\n",
    "   \n",
    "    aptitude = aptitudeFunction(fitness.copy())\n",
    "    print(\"Aptitude : \", aptitude)\n",
    "\n",
    "findAptitude()\n"
   ]
  },
  {
   "cell_type": "markdown",
   "metadata": {},
   "source": [
    "### Find the Probability Density Function (PDF)\n",
    "\n",
    "The premature convergence is avoided employing a Linear Normalization (LN) transformation with N=10, which minimizes the creation of super-individuals and increases the selective pressure on the best. \n",
    "\n",
    "Moreover, the best chromosomes have the highest probability\n"
   ]
  },
  {
   "cell_type": "code",
   "execution_count": 6,
   "metadata": {},
   "outputs": [
    {
     "name": "stdout",
     "output_type": "stream",
     "text": [
      "Linear Normalization : [1, 11, 21, 31]\n",
      "Probabilities PDF:  [0.015625, 0.171875, 0.328125, 0.484375]\n"
     ]
    }
   ],
   "source": [
    "pdf = []\n",
    "def linearNormFunction(vector):\n",
    "    N = 10\n",
    "    for i in range(len(vector)):\n",
    "        vector[i] = i*N + 1\n",
    "    return vector\n",
    "\n",
    "def pdfFunction(vector):\n",
    "    suma = sum(vector)\n",
    "    for i in range(len(vector)):\n",
    "        vector[i] = vector[i]/suma\n",
    "    return vector\n",
    "\n",
    "def findPDF():\n",
    "    aptitude  = linearNormFunction(fitness.copy())\n",
    "    print(\"Linear Normalization :\", aptitude)\n",
    "    pdf = pdfFunction(aptitude.copy())\n",
    "    print(\"Probabilities PDF: \", pdf)\n",
    "    return pdf\n",
    "    \n",
    "pdf = findPDF()"
   ]
  },
  {
   "cell_type": "markdown",
   "metadata": {},
   "source": [
    "### Find the Cumulative Distribution Function (CDF)\n",
    "\n",
    "These probabilities are subsequently employed for the selection of the chromosomes based on the roulette method."
   ]
  },
  {
   "cell_type": "code",
   "execution_count": 7,
   "metadata": {},
   "outputs": [
    {
     "name": "stdout",
     "output_type": "stream",
     "text": [
      "Probabilities CDF:  [0.015625, 0.1875, 0.515625, 1.0]\n"
     ]
    }
   ],
   "source": [
    "cdf = []\n",
    "def cdfFunction(cdf):\n",
    "    aux = 0 \n",
    "    for i in range(len(cdf)):\n",
    "        cdf[i] = cdf[i] + aux\n",
    "        aux = cdf[i]\n",
    "    return cdf\n",
    "\n",
    "def findCDF():\n",
    "    cdf = cdfFunction(pdf.copy())\n",
    "    print(\"Probabilities CDF: \", cdf)\n",
    "    return cdf\n",
    "\n",
    "cdf = findCDF()\n",
    "\n",
    "\n"
   ]
  },
  {
   "cell_type": "markdown",
   "metadata": {},
   "source": [
    "### Selection of the Best Chromosome\n"
   ]
  },
  {
   "cell_type": "code",
   "execution_count": 8,
   "metadata": {},
   "outputs": [
    {
     "name": "stdout",
     "output_type": "stream",
     "text": [
      "Best Chromosome :  [3, 3, 0, 1, 5, 6, 2, 0]  with fitness =  23\n",
      "Worst Chromosome :  [1, 5, 4, 3, 2, 6, 2, 3]  with fitness =  18\n"
     ]
    }
   ],
   "source": [
    "bestCh = []\n",
    "worstCh = []\n",
    "\n",
    "def bestChFunction(population, pdf):\n",
    "    index_max = np.argmax(pdf)\n",
    "    bestCh = population[index_max]\n",
    "    return bestCh\n",
    "\n",
    "def worstChFunction(population, pdf):\n",
    "    index_min = np.argmin(pdf)\n",
    "    worstCh = population[index_min]\n",
    "    return worstCh\n",
    "\n",
    "def bestChromosome():\n",
    "    bestCh = bestChFunction(population, pdf)\n",
    "    print(\"Best Chromosome : \", bestCh, \" with fitness = \", fitnessFunction(bestCh, 28))\n",
    "    return bestCh\n",
    "\n",
    "def worstChromosome():\n",
    "    worstCh = worstChFunction(population, pdf)\n",
    "    print(\"Worst Chromosome : \", worstCh, \" with fitness = \", fitnessFunction(worstCh, 28))\n",
    "    return worstCh\n",
    "\n",
    "bestCh = bestChromosome()\n",
    "worstCh = worstChromosome()\n"
   ]
  },
  {
   "cell_type": "markdown",
   "metadata": {},
   "source": [
    "### Reproduction\n",
    "\n",
    "The reproduction method is the 1 point crossover.\n",
    "\n",
    "Moreover, the two chromosomes are selected based on the roulette method.\n",
    "\n",
    "Moreover, one child is mutated base on generative mutation."
   ]
  },
  {
   "cell_type": "code",
   "execution_count": 9,
   "metadata": {},
   "outputs": [
    {
     "name": "stdout",
     "output_type": "stream",
     "text": [
      "Parents for reproduction:      [[6, 4, 3, 3, 0, 4, 2, 0], [3, 3, 0, 1, 5, 6, 2, 0]]\n",
      "Children of the reproduction:  [[6, 4, 3, 3, 0, 4, 2, 0], [3, 3, 0, 1, 5, 6, 2, 0]]\n",
      "Child selected for mutation:                              [3, 3, 0, 1, 5, 6, 2, 0]\n",
      "Children after mutation:       [[6, 4, 3, 3, 0, 4, 2, 0], [3, 3, 1, 1, 5, 6, 2, 0]]\n"
     ]
    }
   ],
   "source": [
    "parents = []\n",
    "children = []\n",
    "\n",
    "def rouletteFunction(population, cdf):\n",
    "    randomValue = random.random()\n",
    "    for i in range(len(cdf)):\n",
    "        if(randomValue<cdf[i]):\n",
    "            rouletteCh = population[i]\n",
    "            break\n",
    "    return rouletteCh\n",
    "\n",
    "def crossoverFunction(parents,point):\n",
    "    children = []\n",
    "    c1 = []\n",
    "    c2 = []\n",
    "    p1 = parents[0]\n",
    "    p2 = parents[1]\n",
    "    for i in range(len(p1)):\n",
    "        if i <= point:\n",
    "            c1.append(p1[i])\n",
    "            c2.append(p2[i])\n",
    "        else:\n",
    "            c1.append(p2[i])\n",
    "            c2.append(p1[i])\n",
    "    children.append(c1)\n",
    "    children.append(c2)\n",
    "    return children\n",
    "\n",
    "def generativeFunction(vector, minAllele, maxAllele):\n",
    "    newAllele = random.randrange(minAllele, maxAllele+1, 1)\n",
    "    newLocus = random.randrange(0, len(vector), 1)\n",
    "    vector[newLocus] = newAllele\n",
    "    return vector\n",
    "\n",
    "\n",
    "def selectionCh():\n",
    "    rouletteCh = []\n",
    "    rouletteCh = rouletteFunction(population, cdf)\n",
    "    parents.append(rouletteCh.copy())\n",
    "    parents.append(rouletteCh.copy())\n",
    "    attempts = 0\n",
    "    while parents[0] == parents[1]:\n",
    "        rouletteCh = rouletteFunction(population, cdf)\n",
    "        parents[1]= rouletteCh.copy()\n",
    "        attempts+=1\n",
    "        if attempts==10:\n",
    "            break\n",
    "    print(\"Parents for reproduction:     \", parents)\n",
    "    return parents\n",
    "\n",
    "def reproduction():\n",
    "    point = random.randrange(0, nGens, 1)\n",
    "    children = crossoverFunction(parents.copy(), point)\n",
    "    print(\"Children of the reproduction: \", children)\n",
    "    length = len(children)\n",
    "    idCh = random.randrange(0, length, 1)\n",
    "    if idCh == 0:\n",
    "        print(\"Child selected for mutation:   \", children[idCh])\n",
    "    else:\n",
    "         print(\"Child selected for mutation:                             \", children[idCh])\n",
    "    children[idCh] = generativeFunction(children[idCh].copy(), minAllele, maxAllele)\n",
    "    print(\"Children after mutation:      \", children)\n",
    "    return children\n",
    "    \n",
    "    \n",
    "parents = selectionCh()\n",
    "children = reproduction()\n",
    "   "
   ]
  },
  {
   "cell_type": "markdown",
   "metadata": {},
   "source": [
    "### Mutation\n",
    "\n",
    "A chromosome is selected based on the roulette method to mutate based on seqSwap and generative mutations."
   ]
  },
  {
   "cell_type": "code",
   "execution_count": 10,
   "metadata": {},
   "outputs": [
    {
     "name": "stdout",
     "output_type": "stream",
     "text": [
      "Child select:                  [3, 3, 0, 1, 5, 6, 2, 0]  point of split:  8\n",
      "Mutated Child with seqSwap:    [3, 3, 0, 1, 5, 6, 2, 0]\n",
      "Mutated Child with Generative: [3, 3, 0, 1, 5, 6, 5, 0]\n"
     ]
    }
   ],
   "source": [
    "mutant = []\n",
    "def seqSwapFunction(vector, point):\n",
    "    aux = []\n",
    "    for i in range(len(vector)):\n",
    "        if i <= point:\n",
    "            aux.append(vector[i])\n",
    "        else:\n",
    "            aux.insert(0, vector[i])\n",
    "    vector = aux\n",
    "    return vector\n",
    "\n",
    "\n",
    "def mutation():\n",
    "    point = random.randrange(0, nGens, 1)\n",
    "    rouletteCh = rouletteFunction(population, cdf)\n",
    "    print(\"Child select:                 \", rouletteCh, \" point of split: \", point+1)\n",
    "    mutant = seqSwapFunction(rouletteCh.copy(), point)\n",
    "    print(\"Mutated Child with seqSwap:   \", mutant)\n",
    "    mutant = generativeFunction(mutant.copy(), minAllele, maxAllele)\n",
    "    print(\"Mutated Child with Generative:\", mutant)\n",
    "    return mutant\n",
    "\n",
    "mutant = mutation()"
   ]
  },
  {
   "cell_type": "markdown",
   "metadata": {},
   "source": [
    "### Generate New Population\n",
    "\n",
    "The selection of the new population is based on the Elitism mechanism.\n",
    "\n",
    "The next generation contains the three children and the fittest chromosome of the previous generation.\n"
   ]
  },
  {
   "cell_type": "code",
   "execution_count": 11,
   "metadata": {},
   "outputs": [
    {
     "name": "stdout",
     "output_type": "stream",
     "text": [
      "Old generation:  [[1, 5, 4, 3, 2, 6, 2, 3], [2, 4, 0, 0, 4, 1, 0, 2], [6, 4, 3, 3, 0, 4, 2, 0], [3, 3, 0, 1, 5, 6, 2, 0]]\n",
      "Old Fitness :  [18, 21, 22, 23]\n",
      "New generation:  [[3, 3, 0, 1, 5, 6, 2, 0], [6, 4, 3, 3, 0, 4, 2, 0], [3, 3, 1, 1, 5, 6, 2, 0], [3, 3, 0, 1, 5, 6, 5, 0]]\n",
      "Fitness : [23, 22, 23, 21]\n"
     ]
    }
   ],
   "source": [
    "\n",
    "def newGenerationElitism():\n",
    "    print(\"Old generation: \", population)\n",
    "    print(\"Old Fitness : \", fitness)\n",
    "    aux = population\n",
    "    population.clear()\n",
    "    population.append(bestCh.copy())\n",
    "    population.append(children[0].copy())\n",
    "    population.append(children[1].copy())\n",
    "    population.append(mutant.copy())\n",
    "    return population\n",
    "\n",
    "\n",
    "population = newGenerationElitism()\n",
    "fitness.clear()\n",
    "\n",
    "print(\"New generation: \", population)\n",
    "fitness = findFitness(maxFitness)\n",
    "\n"
   ]
  },
  {
   "cell_type": "markdown",
   "metadata": {},
   "source": [
    "###  Run GA and stopping Criteria "
   ]
  },
  {
   "cell_type": "code",
   "execution_count": 17,
   "metadata": {},
   "outputs": [],
   "source": [
    "# ____ _  _ _  _ _  _ _ _  _ ____    ____ ____ \n",
    "# |__/ |  | |\\ | |\\ | | |\\ | | __    | __ |__| \n",
    "# |  \\ |__| | \\| | \\| | | \\| |__]    |__] |  | \n",
    "\n",
    "def run():\n",
    "        print(\"Running GE\")\n",
    "        generation = 0\n",
    "        nrepeat = 0\n",
    "        running = True\n",
    "        while running:\n",
    "            generation+=1\n",
    "            print(\"\\nGeneration\", generation)\n",
    "            findFitness()\n",
    "            sortFitnessPopulation()\n",
    "            findAptitude()\n",
    "            findPDF()\n",
    "            findCDF()\n",
    "            bestChromosome()\n",
    "            worstChromosome()\n",
    "            selectionCh()\n",
    "            reproduction()\n",
    "            mutation()\n",
    "            newGenerationElitism()\n",
    "            statistics()\n",
    "            clearAll()\n",
    "# ____ ___ ____ ___  ___  _ _  _ ____    ____ ____ _ ___ ____ ____ _ ____ \n",
    "# [__   |  |  | |__] |__] | |\\ | | __    |    |__/ |  |  |___ |__/ | |__| \n",
    "# ___]  |  |__| |    |    | | \\| |__]    |___ |  \\ |  |  |___ |  \\ | |  | \n",
    "                                                                        \n",
    "            if(generation > numberGenerations):\n",
    "                running = False\n",
    "            elif(fitnessFunction(population[0].copy(), maxFitness)==maxFitness):\n",
    "                running = False\n",
    "            elif(nrepeat > repeatChromosome):\n",
    "                running = False\n",
    "            else:\n",
    "                running = True\n",
    "                \n",
    "# ____ ____ ____ _  _ _    ___ ____ \n",
    "# |__/ |___ [__  |  | |     |  [__  \n",
    "# |  \\ |___ ___] |__| |___  |  ___] \n",
    "        self.bestChromosome  = population[0].copy()                       \n",
    "        print(\"\\n\\n\\n *************  ANSWER ************** \") \n",
    "        print(\"\\nGeneration = \", generation,\n",
    "              \"\\nBest Chromosome = \", population[0],\n",
    "              \"\\nFitness = \", fitnessFunction(population[0].copy(), maxFitness))\n"
   ]
  },
  {
   "cell_type": "markdown",
   "metadata": {},
   "source": [
    "## 2. Simulation Results"
   ]
  },
  {
   "cell_type": "code",
   "execution_count": 12,
   "metadata": {},
   "outputs": [
    {
     "data": {
      "image/png": "[encoded data removed]",
      "text/plain": [
       "<IPython.core.display.Image object>"
      ]
     },
     "execution_count": 12,
     "metadata": {
      "image/png": {
       "height": 200,
       "width": 400
      }
     },
     "output_type": "execute_result"
    }
   ],
   "source": [
    "Image(\"https://raw.githubusercontent.com/oscarciceri/GeneticAlgorithms/master/plots/queens/queens.png\", width=400, height=200)"
   ]
  },
  {
   "cell_type": "code",
   "execution_count": 13,
   "metadata": {},
   "outputs": [
    {
     "data": {
      "image/png": "[encoded data removed]",
      "text/plain": [
       "<IPython.core.display.Image object>"
      ]
     },
     "execution_count": 13,
     "metadata": {
      "image/png": {
       "height": 200,
       "width": 400
      }
     },
     "output_type": "execute_result"
    }
   ],
   "source": [
    "Image(\"https://raw.githubusercontent.com/oscarciceri/GeneticAlgorithms/master/plots/queens/pluzee.png\", width=400, height=200)"
   ]
  },
  {
   "cell_type": "markdown",
   "metadata": {},
   "source": [
    "## 3. Code"
   ]
  },
  {
   "cell_type": "markdown",
   "metadata": {},
   "source": [
    "The code is available at: \n",
    "\n",
    "https://github.com/oscarciceri/GeneticAlgorithms "
   ]
  },
  {
   "cell_type": "markdown",
   "metadata": {},
   "source": [
    "### How to run\n",
    "\n",
    "- git clone https://github.com/oscarciceri/GeneticAlgorithms.git\n",
    "- python queensMain.py"
   ]
  },
  {
   "cell_type": "markdown",
   "metadata": {},
   "source": [
    "### How to plot\n",
    "\n",
    "- python plot.py"
   ]
  }
 ],
 "metadata": {
  "kernelspec": {
   "display_name": "Python 3",
   "language": "python",
   "name": "python3"
  },
  "language_info": {
   "codemirror_mode": {
    "name": "ipython",
    "version": 3
   },
   "file_extension": ".py",
   "mimetype": "text/x-python",
   "name": "python",
   "nbconvert_exporter": "python",
   "pygments_lexer": "ipython3",
   "version": "3.8.2"
  }
 },
 "nbformat": 4,
 "nbformat_minor": 4
}
